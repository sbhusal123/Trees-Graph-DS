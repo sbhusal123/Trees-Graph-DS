{
  "nbformat": 4,
  "nbformat_minor": 0,
  "metadata": {
    "colab": {
      "name": "Binary Tree.ipynb",
      "provenance": [],
      "collapsed_sections": [],
      "authorship_tag": "ABX9TyOcdmqzUSVN9hJDLhivVSVQ",
      "include_colab_link": true
    },
    "kernelspec": {
      "name": "python3",
      "display_name": "Python 3"
    },
    "language_info": {
      "name": "python"
    }
  },
  "cells": [
    {
      "cell_type": "markdown",
      "metadata": {
        "id": "view-in-github",
        "colab_type": "text"
      },
      "source": [
        "<a href=\"https://colab.research.google.com/github/sbhusal123/Trees-Graph-DS/blob/main/Binary_Tree.ipynb\" target=\"_parent\"><img src=\"https://colab.research.google.com/assets/colab-badge.svg\" alt=\"Open In Colab\"/></a>"
      ]
    },
    {
      "cell_type": "code",
      "metadata": {
        "id": "yAGlzpbCsAS4"
      },
      "source": [
        "class NodeUnReachable(Exception):\n",
        "  pass"
      ],
      "execution_count": 85,
      "outputs": []
    },
    {
      "cell_type": "code",
      "metadata": {
        "id": "1BGrwM1f47Pn"
      },
      "source": [
        "class BinaryTree:\n",
        "\n",
        "  def __init__(self, data):\n",
        "    self.left = None\n",
        "    self.right = None\n",
        "    self.data = data\n",
        "  \n",
        "  def insert(self, data):\n",
        "    # If element already in tree, ignore\n",
        "    if data == self.data:\n",
        "      return\n",
        "\n",
        "    # If less than parent node, insert to left subtree\n",
        "    if data < self.data:\n",
        "      if self.left is None:\n",
        "        self.left = BinaryTree(data)\n",
        "      else:\n",
        "        self.left.insert(data)\n",
        "\n",
        "    # If greater than parent node, insert to right subtree\n",
        "    else:\n",
        "      if self.right is None:\n",
        "        self.right = BinaryTree(data)\n",
        "      else:\n",
        "        self.right.insert(data)\n",
        "      \n",
        "  def inorder_traversal(self):\n",
        "    \"\"\"Visit order: left, root, right\"\"\"\n",
        "    items = []\n",
        "\n",
        "    # visit left subtree\n",
        "    if self.left:\n",
        "      items += self.left.inorder_traversal()\n",
        "    \n",
        "    # visit root/base\n",
        "    items.append(self.data)\n",
        "    \n",
        "    # visit right subtree\n",
        "    if self.right:\n",
        "      items += self.right.inorder_traversal()\n",
        "    \n",
        "    return items\n",
        "  \n",
        "  def preorder_traversal(self):\n",
        "    \"\"\"Visit order: root, left, right\"\"\"\n",
        "    items = []\n",
        "\n",
        "    # visit root/base\n",
        "    items.append(self.data)\n",
        "\n",
        "    # visit left subtree:\n",
        "    if self.left:\n",
        "      items += self.left.preorder_traversal()\n",
        "    \n",
        "    # visit right subtree\n",
        "    if self.right:\n",
        "      items += self.right.preorder_traversal()\n",
        "    \n",
        "    return items\n",
        "    \n",
        "  def postorder_traversal(self):\n",
        "    \"\"\"Visi order: left, right, root\"\"\"\n",
        "    items = []\n",
        "\n",
        "    # visit left subtree\n",
        "    if self.left:\n",
        "      items += self.left.postorder_traversal()\n",
        "\n",
        "    # visit right subtree\n",
        "    if self.right:\n",
        "      items += self.right.postorder_traversal()\n",
        "    \n",
        "    # visit root/base\n",
        "    items.append(self.data)\n",
        "    \n",
        "    return items\n",
        "  \n",
        "  def __compute_depth_from_root(self, target_node, depth=0):\n",
        "    \"\"\"Distance from one node to another\"\"\"\n",
        "    if target_node == self.data:\n",
        "      return depth\n",
        "    \n",
        "    if target_node < self.data:\n",
        "      if self.left:\n",
        "        return self.left.__compute_depth_from_root(target_node, depth+1)\n",
        "      else:\n",
        "        return 0\n",
        "\n",
        "    if target_node > self.data:\n",
        "      if self.right:\n",
        "        return self.right.__compute_depth_from_root(target_node, depth+1)\n",
        "      else:\n",
        "        return 0\n",
        "    \n",
        "  def compute_depth(self, root_node, target_node):\n",
        "    d_root_node = self.__compute_depth_from_root(root_node)\n",
        "    d_target_node = self.__compute_depth_from_root(target_node)\n",
        "    return d_target_node - d_root_node\n",
        "\n",
        "  def get_leaf_nodes(self, root=None):\n",
        "    if not self.left and not self.right:\n",
        "      return [self.data]\n",
        "    \n",
        "    if root:\n",
        "      leaves = self.get_leaf_nodes(self.left) + self.get_left_nodes(self.right)\n",
        "\n",
        "    return leaves\n",
        "\n",
        "\n",
        "\n",
        "  def exists(self, data):\n",
        "    # if lesser than current node value\n",
        "    if data < self.data:\n",
        "      if self.left:\n",
        "        return self.left.exists(data)\n",
        "      else: return False\n",
        "\n",
        "    # if greater than current node value\n",
        "    if data > self.data:\n",
        "      if self.right:\n",
        "        return self.right.exists(data)\n",
        "      else: return False\n",
        "    \n",
        "    if data == self.data:\n",
        "      return True\n",
        "\n",
        "  def get_leaf_nodes(self):\n",
        "      \"\"\"Get the nodes which don't have any left of right sub nodes\"\"\"\n",
        "      leaves = []\n",
        "      \n",
        "      # If no child nodes\n",
        "      if not self.left and not self.right:\n",
        "          return [self.data]\n",
        "      \n",
        "      # If no any left child\n",
        "      if not self.left:\n",
        "          leaves = self.right.get_leaf_nodes()\n",
        "      \n",
        "      # If no any right child\n",
        "      if not self.right:\n",
        "          leaves = self.left.get_leaf_nodes()\n",
        "      \n",
        "      # If has left as well left child\n",
        "      if self.left and self.right:\n",
        "          leaves = self.left.get_leaf_nodes() + self.right.get_leaf_nodes()\n",
        "      \n",
        "      return leaves\n",
        "  "
      ],
      "execution_count": 86,
      "outputs": []
    },
    {
      "cell_type": "code",
      "metadata": {
        "colab": {
          "base_uri": "https://localhost:8080/"
        },
        "id": "E8B3SjBpddDT",
        "outputId": "e1d13f5c-8877-48e2-d6cf-f3812e25cf1a"
      },
      "source": [
        "def create_tree(item):\n",
        "  bt = BinaryTree(item[0])\n",
        "  for i in item[1:]:\n",
        "    bt.insert(i)\n",
        "  return bt\n",
        "\n",
        "items = [2, 6, 1, 11, 10, 8, 3, 9]\n",
        "\n",
        "tree = create_tree(items)\n",
        "\n",
        "print(\"Pre Order Traversal\")\n",
        "print(tree.preorder_traversal())\n",
        "print(\"\\n\")\n",
        "\n",
        "print(\"In Order Traversal\")\n",
        "print(tree.inorder_traversal())\n",
        "print(\"\\n\")\n",
        "\n",
        "print(\"Post Order Traversal\")\n",
        "print(tree.postorder_traversal())"
      ],
      "execution_count": 87,
      "outputs": [
        {
          "output_type": "stream",
          "name": "stdout",
          "text": [
            "Pre Order Traversal\n",
            "[2, 1, 6, 3, 11, 10, 8, 9]\n",
            "\n",
            "\n",
            "In Order Traversal\n",
            "[1, 2, 3, 6, 8, 9, 10, 11]\n",
            "\n",
            "\n",
            "Post Order Traversal\n",
            "[1, 3, 9, 8, 10, 11, 6, 2]\n"
          ]
        }
      ]
    },
    {
      "cell_type": "code",
      "metadata": {
        "colab": {
          "base_uri": "https://localhost:8080/"
        },
        "id": "QypewdfJsgio",
        "outputId": "fce4a934-51db-430a-efd2-4a1e47a1665d"
      },
      "source": [
        "print(\"Depth from 6 to 9\")\n",
        "print(tree.compute_depth(1,11))\n",
        "\n",
        "print(\"\\n\")\n",
        "print(\"Does 6 exists ??\")\n",
        "print(tree.exists(9))"
      ],
      "execution_count": 88,
      "outputs": [
        {
          "output_type": "stream",
          "name": "stdout",
          "text": [
            "Depth from 6 to 9\n",
            "1\n",
            "\n",
            "\n",
            "Does 6 exists ??\n",
            "True\n"
          ]
        }
      ]
    },
    {
      "cell_type": "code",
      "metadata": {
        "colab": {
          "base_uri": "https://localhost:8080/"
        },
        "id": "7n4A8rynLMsL",
        "outputId": "66446362-00ca-4c9f-bac9-da99de1ce14d"
      },
      "source": [
        "tree.get_leaf_nodes()"
      ],
      "execution_count": 89,
      "outputs": [
        {
          "output_type": "execute_result",
          "data": {
            "text/plain": [
              "[1, 3, 9]"
            ]
          },
          "metadata": {},
          "execution_count": 89
        }
      ]
    }
  ]
}