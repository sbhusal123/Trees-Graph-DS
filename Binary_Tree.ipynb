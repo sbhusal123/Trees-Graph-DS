{
  "nbformat": 4,
  "nbformat_minor": 0,
  "metadata": {
    "colab": {
      "name": "Binary Tree.ipynb",
      "provenance": [],
      "collapsed_sections": [],
      "authorship_tag": "ABX9TyMUf8Y306nY+iUTD7mqRhsp",
      "include_colab_link": true
    },
    "kernelspec": {
      "name": "python3",
      "display_name": "Python 3"
    },
    "language_info": {
      "name": "python"
    }
  },
  "cells": [
    {
      "cell_type": "markdown",
      "metadata": {
        "id": "view-in-github",
        "colab_type": "text"
      },
      "source": [
        "<a href=\"https://colab.research.google.com/github/sbhusal123/Trees-Graph-DS/blob/main/Binary_Tree.ipynb\" target=\"_parent\"><img src=\"https://colab.research.google.com/assets/colab-badge.svg\" alt=\"Open In Colab\"/></a>"
      ]
    },
    {
      "cell_type": "code",
      "metadata": {
        "id": "1BGrwM1f47Pn"
      },
      "source": [
        "class BinaryTree:\n",
        "\n",
        "  def __init__(self, data):\n",
        "    self.left = None\n",
        "    self.right = None\n",
        "    self.data = data\n",
        "  \n",
        "  def insert(self, data):\n",
        "    # If element already in tree, ignore\n",
        "    if data == self.data:\n",
        "      return\n",
        "\n",
        "    # If less than parent node, insert to left subtree\n",
        "    if data < self.data:\n",
        "      if self.left is None:\n",
        "        self.left = BinaryTree(data)\n",
        "      else:\n",
        "        self.left.insert(data)\n",
        "\n",
        "    # If greater than parent node, insert to right subtree\n",
        "    else:\n",
        "      if self.right is None:\n",
        "        self.right = BinaryTree(data)\n",
        "      else:\n",
        "        self.right.insert(data)\n",
        "      \n",
        "  def inorder_traversal(self):\n",
        "    \"\"\"Visit order: left, root, right\"\"\"\n",
        "    items = []\n",
        "\n",
        "    # visit left subtree\n",
        "    if self.left:\n",
        "      items += self.left.inorder_traversal()\n",
        "    \n",
        "    # visit root/base\n",
        "    items.append(self.data)\n",
        "    \n",
        "    # visit right subtree\n",
        "    if self.right:\n",
        "      items += self.right.inorder_traversal()\n",
        "    \n",
        "    return items\n",
        "  \n",
        "  def preorder_traversal(self):\n",
        "    \"\"\"Visit order: root, left, right\"\"\"\n",
        "    items = []\n",
        "\n",
        "    # visit root/base\n",
        "    items.append(self.data)\n",
        "\n",
        "    # visit left subtree:\n",
        "    if self.left:\n",
        "      items += self.left.preorder_traversal()\n",
        "    \n",
        "    # visit right subtree\n",
        "    if self.right:\n",
        "      items += self.right.preorder_traversal()\n",
        "    \n",
        "    return items\n",
        "    \n",
        "  def postorder_traversal(self):\n",
        "    \"\"\"Visi order: left, right, root\"\"\"\n",
        "    items = []\n",
        "\n",
        "    # visit left subtree\n",
        "    if self.left:\n",
        "      items += self.left.postorder_traversal()\n",
        "\n",
        "    # visit right subtree\n",
        "    if self.right:\n",
        "      items += self.right.postorder_traversal()\n",
        "    \n",
        "    # visit root/base\n",
        "    items.append(self.data)\n",
        "    \n",
        "    return items\n",
        "  \n",
        "  def exists(self, data):\n",
        "    # if lesser than current node value\n",
        "    if data < self.data:\n",
        "      if self.left:\n",
        "        return self.left.exists(data)\n",
        "      else: return False\n",
        "\n",
        "    # if greater than current node value\n",
        "    if data > self.data:\n",
        "      if self.right:\n",
        "        return self.right.exists(data)\n",
        "      else: return False\n",
        "    \n",
        "    if data == self.data:\n",
        "      return True\n"
      ],
      "execution_count": null,
      "outputs": []
    },
    {
      "cell_type": "code",
      "metadata": {
        "colab": {
          "base_uri": "https://localhost:8080/"
        },
        "id": "E8B3SjBpddDT",
        "outputId": "7b08237e-aa47-44d2-e261-08769171fa33"
      },
      "source": [
        "def create_tree(item):\n",
        "  bt = BinaryTree(item[0])\n",
        "  for i in item[1:]:\n",
        "    bt.insert(i)\n",
        "  return bt\n",
        "\n",
        "items = [2, 6, 1, 11, 10, 8, 3, 9]\n",
        "\n",
        "tree = create_tree(items)\n",
        "\n",
        "print(\"Pre Order Traversal\")\n",
        "print(tree.preorder_traversal())\n",
        "print(\"\\n\")\n",
        "\n",
        "print(\"In Order Traversal\")\n",
        "print(tree.inorder_traversal())\n",
        "print(\"\\n\")\n",
        "\n",
        "print(\"Post Order Traversal\")\n",
        "print(tree.postorder_traversal())\n",
        "\n",
        "print(\"\\n\")\n",
        "print(\"Does 6 exists ??\")\n",
        "\n",
        "print(tree.exists(9))"
      ],
      "execution_count": null,
      "outputs": [
        {
          "output_type": "stream",
          "name": "stdout",
          "text": [
            "Pre Order Traversal\n",
            "[2, 1, 6, 3, 11, 10, 8, 9]\n",
            "\n",
            "\n",
            "In Order Traversal\n",
            "[1, 2, 3, 6, 8, 9, 10, 11]\n",
            "\n",
            "\n",
            "Post Order Traversal\n",
            "[1, 3, 9, 8, 10, 11, 6, 2]\n",
            "\n",
            "\n",
            "Does 6 exists ??\n",
            "True\n"
          ]
        }
      ]
    }
  ]
}