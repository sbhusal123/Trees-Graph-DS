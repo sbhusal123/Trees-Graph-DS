{
  "nbformat": 4,
  "nbformat_minor": 0,
  "metadata": {
    "colab": {
      "name": "Binary Tree.ipynb",
      "provenance": [],
      "collapsed_sections": [],
      "authorship_tag": "ABX9TyNh7J0qXg5qO4jSRmng5Vu4",
      "include_colab_link": true
    },
    "kernelspec": {
      "name": "python3",
      "display_name": "Python 3"
    },
    "language_info": {
      "name": "python"
    }
  },
  "cells": [
    {
      "cell_type": "markdown",
      "metadata": {
        "id": "view-in-github",
        "colab_type": "text"
      },
      "source": [
        "<a href=\"https://colab.research.google.com/github/sbhusal123/Trees-Graph-DS/blob/main/Binary_Tree.ipynb\" target=\"_parent\"><img src=\"https://colab.research.google.com/assets/colab-badge.svg\" alt=\"Open In Colab\"/></a>"
      ]
    },
    {
      "cell_type": "markdown",
      "metadata": {
        "id": "KtG1u5gVx7UW"
      },
      "source": [
        "**Tree implementaton as a Class**"
      ]
    },
    {
      "cell_type": "code",
      "metadata": {
        "id": "1BGrwM1f47Pn"
      },
      "source": [
        "class BinaryTree:\n",
        "\n",
        "  def __init__(self, data):\n",
        "    self.left = None\n",
        "    self.right = None\n",
        "    self.data = data\n",
        "  \n",
        "  def insert(self, data):\n",
        "    # If element already in tree, ignore\n",
        "    if data == self.data:\n",
        "      return\n",
        "\n",
        "    # If less than parent node, insert to left subtree\n",
        "    if data < self.data:\n",
        "      if self.left is None:\n",
        "        self.left = BinaryTree(data)\n",
        "      else:\n",
        "        self.left.insert(data)\n",
        "\n",
        "    # If greater than parent node, insert to right subtree\n",
        "    else:\n",
        "      if self.right is None:\n",
        "        self.right = BinaryTree(data)\n",
        "      else:\n",
        "        self.right.insert(data)\n",
        "      \n",
        "  def inorder_traversal(self):\n",
        "    \"\"\"Visit order: left, root, right\"\"\"\n",
        "    items = []\n",
        "\n",
        "    # visit left subtree\n",
        "    if self.left:\n",
        "      items += self.left.inorder_traversal()\n",
        "    \n",
        "    # visit root/base\n",
        "    items.append(self.data)\n",
        "    \n",
        "    # visit right subtree\n",
        "    if self.right:\n",
        "      items += self.right.inorder_traversal()\n",
        "    \n",
        "    return items\n",
        "  \n",
        "\n",
        "  def get_subtree(self, data):\n",
        "    \"\"\"Get subtree\"\"\"\n",
        "    if data < self.data:\n",
        "      return self.left.get_subtree(data)\n",
        "\n",
        "    if data > self.data:\n",
        "      return self.right.get_subtree(data)\n",
        "    \n",
        "    return self\n",
        "\n",
        "  \n",
        "  def preorder_traversal(self):\n",
        "    \"\"\"Visit order: root, left, right\"\"\"\n",
        "    items = []\n",
        "\n",
        "    # visit root/base\n",
        "    items.append(self.data)\n",
        "\n",
        "    # visit left subtree:\n",
        "    if self.left:\n",
        "      items += self.left.preorder_traversal()\n",
        "    \n",
        "    # visit right subtree\n",
        "    if self.right:\n",
        "      items += self.right.preorder_traversal()\n",
        "    \n",
        "    return items\n",
        "    \n",
        "  def postorder_traversal(self):\n",
        "    \"\"\"Visi order: left, right, root\"\"\"\n",
        "    items = []\n",
        "\n",
        "    # visit left subtree\n",
        "    if self.left:\n",
        "      items += self.left.postorder_traversal()\n",
        "\n",
        "    # visit right subtree\n",
        "    if self.right:\n",
        "      items += self.right.postorder_traversal()\n",
        "    \n",
        "    # visit root/base\n",
        "    items.append(self.data)\n",
        "    \n",
        "    return items\n",
        "  \n",
        "  def compute_depth(self, target_node, depth=0):\n",
        "    \"\"\"Distance from one node to another\"\"\"\n",
        "    if target_node == self.data:\n",
        "      return depth\n",
        "    \n",
        "    if target_node < self.data:\n",
        "      if self.left:\n",
        "        return self.left.compute_depth(target_node, depth+1)\n",
        "      else:\n",
        "        return 0\n",
        "\n",
        "    if target_node > self.data:\n",
        "      if self.right:\n",
        "        return self.right.compute_depth(target_node, depth+1)\n",
        "      else:\n",
        "        return 0\n",
        "\n",
        "  def get_leaf_nodes(self, root=None):\n",
        "    if not self.left and not self.right:\n",
        "      return [self.data]\n",
        "    \n",
        "    if root:\n",
        "      leaves = self.get_leaf_nodes(self.left) + self.get_left_nodes(self.right)\n",
        "\n",
        "    return leaves\n",
        "\n",
        "\n",
        "\n",
        "  def exists(self, data):\n",
        "    # if lesser than current node value\n",
        "    if data < self.data:\n",
        "      if self.left:\n",
        "        return self.left.exists(data)\n",
        "      else: return False\n",
        "\n",
        "    # if greater than current node value\n",
        "    if data > self.data:\n",
        "      if self.right:\n",
        "        return self.right.exists(data)\n",
        "      else: return False\n",
        "    \n",
        "    if data == self.data:\n",
        "      return True\n",
        "\n",
        "  def get_leaf_nodes(self):\n",
        "      \"\"\"Get the nodes which don't have any left of right sub nodes\"\"\"\n",
        "      leaves = []\n",
        "      \n",
        "      # If no child nodes\n",
        "      if not self.left and not self.right:\n",
        "          return [self.data]\n",
        "      \n",
        "      # If no any left child\n",
        "      if not self.left:\n",
        "          leaves = self.right.get_leaf_nodes()\n",
        "      \n",
        "      # If no any right child\n",
        "      if not self.right:\n",
        "          leaves = self.left.get_leaf_nodes()\n",
        "      \n",
        "      # If has left as well left child\n",
        "      if self.left and self.right:\n",
        "          leaves = self.left.get_leaf_nodes() + self.right.get_leaf_nodes()\n",
        "      \n",
        "      return leaves\n",
        "  "
      ],
      "execution_count": 58,
      "outputs": []
    },
    {
      "cell_type": "markdown",
      "metadata": {
        "id": "DLzAM8ojxKP9"
      },
      "source": [
        "**Example Tree:**\n",
        "\n",
        "- Data: [2, 6, 1, 11, 10, 8, 3, 9]\n",
        "- Equivalent Tree\n",
        "\n",
        "![tree.drawio.png](data:image/png;base64,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)"
      ]
    },
    {
      "cell_type": "markdown",
      "metadata": {
        "id": "uwgss3Ve60tx"
      },
      "source": [
        "**Create a Tree Out of List**"
      ]
    },
    {
      "cell_type": "code",
      "metadata": {
        "id": "ZxeShQdH64_s"
      },
      "source": [
        "def create_tree(item):\n",
        "  bt = BinaryTree(item[0])\n",
        "  for i in item[1:]:\n",
        "    bt.insert(i)\n",
        "  return bt\n",
        "\n",
        "items = [2, 6, 1, 11, 10, 8, 3, 9]\n",
        "\n",
        "tree = create_tree(items)"
      ],
      "execution_count": 59,
      "outputs": []
    },
    {
      "cell_type": "markdown",
      "metadata": {
        "id": "3cWGhDhlxhag"
      },
      "source": [
        "**Traversal:**"
      ]
    },
    {
      "cell_type": "code",
      "metadata": {
        "colab": {
          "base_uri": "https://localhost:8080/"
        },
        "id": "E8B3SjBpddDT",
        "outputId": "49418251-0914-4f06-a284-bfb05f1eed57"
      },
      "source": [
        "print(\"Pre Order Traversal: (Root, Left, Right)\")\n",
        "print(tree.preorder_traversal())\n",
        "print(\"\\n\")\n",
        "print(\"In Order Traversal: (Left, Root, Right)\")\n",
        "print(tree.inorder_traversal())\n",
        "print(\"\\n\")\n",
        "print(\"Post Order Traversal: (Left, Right, Root)\")\n",
        "print(tree.postorder_traversal())"
      ],
      "execution_count": 64,
      "outputs": [
        {
          "output_type": "stream",
          "name": "stdout",
          "text": [
            "Pre Order Traversal: (Root, Left, Right)\n",
            "[2, 1, 6, 3, 11, 10, 8, 9]\n",
            "\n",
            "\n",
            "In Order Traversal: (Left, Root, Right)\n",
            "[1, 2, 3, 6, 8, 9, 10, 11]\n",
            "\n",
            "\n",
            "Post Order Traversal: (Left, Right, Root)\n",
            "[1, 3, 9, 8, 10, 11, 6, 2]\n"
          ]
        }
      ]
    },
    {
      "cell_type": "markdown",
      "metadata": {
        "id": "dDgjVe1Vx0NQ"
      },
      "source": [
        "**Sub Tree**"
      ]
    },
    {
      "cell_type": "code",
      "metadata": {
        "colab": {
          "base_uri": "https://localhost:8080/"
        },
        "id": "cyYcoUqTxzWS",
        "outputId": "687cd9da-ef5a-466e-a87b-452c67d69df0"
      },
      "source": [
        "sub_tree = tree.get_subtree(6)\n",
        "print(f\"Data: {sub_tree.data}\")\n",
        "print(f\"Left Data: {sub_tree.left.data}\")\n",
        "print(f\"Right Data: {sub_tree.right.data}\")"
      ],
      "execution_count": 61,
      "outputs": [
        {
          "output_type": "stream",
          "name": "stdout",
          "text": [
            "Data: 6\n",
            "Left Data: 3\n",
            "Right Data: 11\n"
          ]
        }
      ]
    },
    {
      "cell_type": "markdown",
      "metadata": {
        "id": "h0kit4EAxmVR"
      },
      "source": [
        "**Depth from one node to other, Existence of data:**"
      ]
    },
    {
      "cell_type": "code",
      "metadata": {
        "colab": {
          "base_uri": "https://localhost:8080/"
        },
        "id": "QypewdfJsgio",
        "outputId": "85fcc96c-6bba-4561-ed91-b91fdf646b55"
      },
      "source": [
        "print(\"Depth from 6 to 9\")\n",
        "print(tree.get_subtree(6).compute_depth(9))\n",
        "\n",
        "print(\"\\n\")\n",
        "print(\"Does 6 exists ??\")\n",
        "print(tree.exists(9))"
      ],
      "execution_count": 62,
      "outputs": [
        {
          "output_type": "stream",
          "name": "stdout",
          "text": [
            "Depth from 6 to 9\n",
            "4\n",
            "\n",
            "\n",
            "Does 6 exists ??\n",
            "True\n"
          ]
        }
      ]
    },
    {
      "cell_type": "markdown",
      "metadata": {
        "id": "ogdMystixr6r"
      },
      "source": [
        "**Leaf Nodes:**"
      ]
    },
    {
      "cell_type": "code",
      "metadata": {
        "colab": {
          "base_uri": "https://localhost:8080/"
        },
        "id": "7n4A8rynLMsL",
        "outputId": "30b335a8-8e9b-4c65-bc84-585ce7546bca"
      },
      "source": [
        "tree.get_leaf_nodes()"
      ],
      "execution_count": 63,
      "outputs": [
        {
          "output_type": "execute_result",
          "data": {
            "text/plain": [
              "[1, 3, 9]"
            ]
          },
          "metadata": {},
          "execution_count": 63
        }
      ]
    }
  ]
}