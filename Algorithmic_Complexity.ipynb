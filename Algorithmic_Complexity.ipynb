{
  "nbformat": 4,
  "nbformat_minor": 0,
  "metadata": {
    "colab": {
      "name": "Algorithmic Complexity.ipynb",
      "provenance": [],
      "authorship_tag": "ABX9TyOHjdMKJo8yPteTs/2KYRXW",
      "include_colab_link": true
    },
    "kernelspec": {
      "name": "python3",
      "display_name": "Python 3"
    },
    "language_info": {
      "name": "python"
    }
  },
  "cells": [
    {
      "cell_type": "markdown",
      "metadata": {
        "id": "view-in-github",
        "colab_type": "text"
      },
      "source": [
        "<a href=\"https://colab.research.google.com/github/sbhusal123/Trees-Graph-DS/blob/main/Algorithmic_Complexity.ipynb\" target=\"_parent\"><img src=\"https://colab.research.google.com/assets/colab-badge.svg\" alt=\"Open In Colab\"/></a>"
      ]
    },
    {
      "cell_type": "markdown",
      "metadata": {
        "id": "_viyISu3_b5E"
      },
      "source": [
        "# Algorithmic Complexity\n",
        "- Measure of the amount of **time(Time Complexity)** and/or **space(Space Complexity)** required by an algorithm for an input of a given size (n)\n",
        "\n",
        "- Denoted by Big O notation: $0(n)$, where n is size of input.\n",
        "\n",
        "**Measure of Complexity:**\n",
        "- Constant Complexity: $O(1)$\n",
        "- Linear Complexity: $O(n)$\n",
        "- Quadratic Complexity: $O(n^2)$\n",
        "- Exponential Complexity: $O(n!),O(n^k)$\n",
        "- Logarathmic Complexity: $O(log(n))$\n",
        "\n",
        "> Below we dicsuss about the time complexity. "
      ]
    },
    {
      "cell_type": "markdown",
      "metadata": {
        "id": "-lNcGQx1Bnzg"
      },
      "source": [
        "**1. Constant Complexity: $O(1)$**\n",
        "- When  time for computation doesn't depends upon the size of input n.\n",
        "- No matter the size of input, time for computation is same.\n",
        "- Excellent cause we don't need to think of input size as time is always same."
      ]
    },
    {
      "cell_type": "code",
      "metadata": {
        "colab": {
          "base_uri": "https://localhost:8080/"
        },
        "id": "9sRgihQC_IJA",
        "outputId": "65723eae-4f19-4c33-916f-92b0ea5f532f"
      },
      "source": [
        "def return_first_element_from_list(x):\n",
        "  return x[0]\n",
        "\n",
        "return_first_element_from_list([1, 2, 3, 4])\n",
        "return_first_element_from_list([1, 2, 3, 4, 5, 6, 7, 8])"
      ],
      "execution_count": 9,
      "outputs": [
        {
          "output_type": "execute_result",
          "data": {
            "text/plain": [
              "1"
            ]
          },
          "metadata": {},
          "execution_count": 9
        }
      ]
    },
    {
      "cell_type": "markdown",
      "metadata": {
        "id": "J8V4adW3ElAJ"
      },
      "source": [
        "**2. Linear Complexity $O(n)$**\n",
        "-  Running time increases at most linearly with the size of the input data.\n",
        "- Best possible when algorithm needs to go through each element.\n"
      ]
    },
    {
      "cell_type": "code",
      "metadata": {
        "id": "_fgIt8KXFS6I"
      },
      "source": [
        "def return_sum_of_list(my_list):\n",
        "  sum = 0\n",
        "  # had to iterate through each item\n",
        "  for item in my_list:\n",
        "    sum += item\n",
        "  return sum"
      ],
      "execution_count": null,
      "outputs": []
    },
    {
      "cell_type": "markdown",
      "metadata": {
        "id": "mKBaEIUPFx8Y"
      },
      "source": [
        "**3. Quadratic Complexity:**\n",
        "- Runing time increases in the power of 2.\n",
        "- Two nested loops."
      ]
    },
    {
      "cell_type": "code",
      "metadata": {
        "colab": {
          "base_uri": "https://localhost:8080/"
        },
        "id": "C88l6yigGSb7",
        "outputId": "a1eaa2d3-655e-491a-bd86-17e0d7bcc575"
      },
      "source": [
        "def generate_mul_table(x, y):\n",
        "  for i in range(1, x+1):\n",
        "    print(f\"Mul table of {i}\")\n",
        "    for j in range(1, y+1):\n",
        "      print(f\"{i}*{j}={i*j}\")\n",
        "    print(\"\\n\")\n",
        "\n",
        "generate_mul_table(2, 2)\n"
      ],
      "execution_count": 63,
      "outputs": [
        {
          "output_type": "stream",
          "name": "stdout",
          "text": [
            "Mul table of 1\n",
            "1*1=1\n",
            "1*2=2\n",
            "\n",
            "\n",
            "Mul table of 2\n",
            "2*1=2\n",
            "2*2=4\n",
            "\n",
            "\n"
          ]
        }
      ]
    },
    {
      "cell_type": "markdown",
      "metadata": {
        "id": "Vv8gKjuKOc8l"
      },
      "source": [
        "**4. Exponential Complexity $O(n!),O(n^k)$**\n",
        "- growth doubles with each addition to the input data set."
      ]
    },
    {
      "cell_type": "code",
      "metadata": {
        "id": "X_s0_X8nPzXI"
      },
      "source": [
        ""
      ],
      "execution_count": 71,
      "outputs": []
    }
  ]
}